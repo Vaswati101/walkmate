{
 "cells": [
  {
   "cell_type": "code",
   "execution_count": 1,
   "id": "dfe23ad9-2d55-45c6-a7db-52dfa6f96bea",
   "metadata": {},
   "outputs": [
    {
     "name": "stdout",
     "output_type": "stream",
     "text": [
      "Parsing Apple Health export...\n",
      "Saved daily steps to apple_watch_steps.csv\n"
     ]
    }
   ],
   "source": [
    "#Step 1: Import the basic libraries and parse the data and save it as a df\n",
    "\n",
    "\n",
    "import xml.etree.ElementTree as ET\n",
    "from collections import defaultdict\n",
    "import pandas as pd\n",
    "\n",
    "# Replace this path with your export.xml location\n",
    "xml_file = \"/Users/vaswatihazarika/Downloads/apple_health_export/export.xml\"\n",
    "\n",
    "print(\"Parsing Apple Health export...\")\n",
    "\n",
    "tree = ET.parse(xml_file)\n",
    "root = tree.getroot()\n",
    "\n",
    "# Dictionary to sum steps per day\n",
    "steps_per_day = defaultdict(int)\n",
    "\n",
    "for record in root.findall('Record'):\n",
    "    if record.attrib.get('type') == 'HKQuantityTypeIdentifierStepCount':\n",
    "        # Start and end dates look like '2025-07-20 12:00:00 +0000'\n",
    "        start_date = record.attrib.get('startDate').split(' ')[0]\n",
    "        step_count = int(float(record.attrib.get('value')))\n",
    "        steps_per_day[start_date] += step_count\n",
    "\n",
    "# Convert to DataFrame\n",
    "df_steps = pd.DataFrame([\n",
    "    {'date': date, 'steps': steps} \n",
    "    for date, steps in steps_per_day.items()\n",
    "])\n",
    "\n",
    "# Sort by date\n",
    "df_steps['date'] = pd.to_datetime(df_steps['date'])\n",
    "df_steps = df_steps.sort_values('date')\n",
    "\n",
    "# Save to CSV\n",
    "df_steps.to_csv('/Users/vaswatihazarika/Downloads/apple_watch_steps.csv', index=False)\n",
    "print(\"Saved daily steps to apple_watch_steps.csv\")\n"
   ]
  },
  {
   "cell_type": "markdown",
   "id": "98e90003-c643-4d4c-9400-3a52fe7e604a",
   "metadata": {},
   "source": [
    "#Step 1.a : Check the structure of your data"
   ]
  },
  {
   "cell_type": "code",
   "execution_count": 3,
   "id": "45e97dc6-1e23-4f01-9298-c46555a9fd21",
   "metadata": {},
   "outputs": [
    {
     "data": {
      "text/html": [
       "<div>\n",
       "<style scoped>\n",
       "    .dataframe tbody tr th:only-of-type {\n",
       "        vertical-align: middle;\n",
       "    }\n",
       "\n",
       "    .dataframe tbody tr th {\n",
       "        vertical-align: top;\n",
       "    }\n",
       "\n",
       "    .dataframe thead th {\n",
       "        text-align: right;\n",
       "    }\n",
       "</style>\n",
       "<table border=\"1\" class=\"dataframe\">\n",
       "  <thead>\n",
       "    <tr style=\"text-align: right;\">\n",
       "      <th></th>\n",
       "      <th>date</th>\n",
       "      <th>steps</th>\n",
       "    </tr>\n",
       "  </thead>\n",
       "  <tbody>\n",
       "    <tr>\n",
       "      <th>1002</th>\n",
       "      <td>2021-05-07</td>\n",
       "      <td>339</td>\n",
       "    </tr>\n",
       "    <tr>\n",
       "      <th>1003</th>\n",
       "      <td>2021-05-08</td>\n",
       "      <td>1138</td>\n",
       "    </tr>\n",
       "    <tr>\n",
       "      <th>1004</th>\n",
       "      <td>2021-05-09</td>\n",
       "      <td>1699</td>\n",
       "    </tr>\n",
       "    <tr>\n",
       "      <th>1005</th>\n",
       "      <td>2021-05-10</td>\n",
       "      <td>1080</td>\n",
       "    </tr>\n",
       "    <tr>\n",
       "      <th>1006</th>\n",
       "      <td>2021-05-11</td>\n",
       "      <td>1316</td>\n",
       "    </tr>\n",
       "  </tbody>\n",
       "</table>\n",
       "</div>"
      ],
      "text/plain": [
       "           date  steps\n",
       "1002 2021-05-07    339\n",
       "1003 2021-05-08   1138\n",
       "1004 2021-05-09   1699\n",
       "1005 2021-05-10   1080\n",
       "1006 2021-05-11   1316"
      ]
     },
     "execution_count": 3,
     "metadata": {},
     "output_type": "execute_result"
    }
   ],
   "source": [
    "df_steps.head()"
   ]
  },
  {
   "cell_type": "code",
   "execution_count": 5,
   "id": "03b60c32-abe3-4190-b6c0-e9bc5f187613",
   "metadata": {},
   "outputs": [
    {
     "data": {
      "text/html": [
       "<div>\n",
       "<style scoped>\n",
       "    .dataframe tbody tr th:only-of-type {\n",
       "        vertical-align: middle;\n",
       "    }\n",
       "\n",
       "    .dataframe tbody tr th {\n",
       "        vertical-align: top;\n",
       "    }\n",
       "\n",
       "    .dataframe thead th {\n",
       "        text-align: right;\n",
       "    }\n",
       "</style>\n",
       "<table border=\"1\" class=\"dataframe\">\n",
       "  <thead>\n",
       "    <tr style=\"text-align: right;\">\n",
       "      <th></th>\n",
       "      <th>date</th>\n",
       "      <th>steps</th>\n",
       "    </tr>\n",
       "  </thead>\n",
       "  <tbody>\n",
       "    <tr>\n",
       "      <th>1002</th>\n",
       "      <td>2021-05-07</td>\n",
       "      <td>339</td>\n",
       "    </tr>\n",
       "    <tr>\n",
       "      <th>1003</th>\n",
       "      <td>2021-05-08</td>\n",
       "      <td>1138</td>\n",
       "    </tr>\n",
       "    <tr>\n",
       "      <th>1004</th>\n",
       "      <td>2021-05-09</td>\n",
       "      <td>1699</td>\n",
       "    </tr>\n",
       "    <tr>\n",
       "      <th>1005</th>\n",
       "      <td>2021-05-10</td>\n",
       "      <td>1080</td>\n",
       "    </tr>\n",
       "    <tr>\n",
       "      <th>1006</th>\n",
       "      <td>2021-05-11</td>\n",
       "      <td>1316</td>\n",
       "    </tr>\n",
       "  </tbody>\n",
       "</table>\n",
       "</div>"
      ],
      "text/plain": [
       "           date  steps\n",
       "1002 2021-05-07    339\n",
       "1003 2021-05-08   1138\n",
       "1004 2021-05-09   1699\n",
       "1005 2021-05-10   1080\n",
       "1006 2021-05-11   1316"
      ]
     },
     "execution_count": 5,
     "metadata": {},
     "output_type": "execute_result"
    }
   ],
   "source": [
    "#Step 1.b Data Wrangling : convert the date to date time\n",
    "\n",
    "df_steps['date'] = pd.to_datetime(df_steps['date'])\n",
    "df_steps = df_steps.sort_values('date')\n",
    "df_steps.head()"
   ]
  },
  {
   "cell_type": "code",
   "execution_count": 9,
   "id": "962ed100-b6e8-48bb-beda-d2183e3ec6ac",
   "metadata": {},
   "outputs": [],
   "source": [
    "#Step 1c : import libaries\n",
    "\n",
    "import sklearn\n",
    "from sklearn.preprocessing import StandardScaler\n",
    "from sklearn.cluster import KMeans\n",
    "from sklearn.metrics import silhouette_score\n"
   ]
  },
  {
   "cell_type": "code",
   "execution_count": 19,
   "id": "839cd51d-4aa2-400d-befd-f6cdeff71f7c",
   "metadata": {},
   "outputs": [
    {
     "data": {
      "text/plain": [
       "<Figure size 2000x2000 with 0 Axes>"
      ]
     },
     "metadata": {},
     "output_type": "display_data"
    },
    {
     "data": {
      "text/html": [
       "<div>\n",
       "<style scoped>\n",
       "    .dataframe tbody tr th:only-of-type {\n",
       "        vertical-align: middle;\n",
       "    }\n",
       "\n",
       "    .dataframe tbody tr th {\n",
       "        vertical-align: top;\n",
       "    }\n",
       "\n",
       "    .dataframe thead th {\n",
       "        text-align: right;\n",
       "    }\n",
       "</style>\n",
       "<table border=\"1\" class=\"dataframe\">\n",
       "  <thead>\n",
       "    <tr style=\"text-align: right;\">\n",
       "      <th></th>\n",
       "      <th>date</th>\n",
       "      <th>steps</th>\n",
       "    </tr>\n",
       "  </thead>\n",
       "  <tbody>\n",
       "    <tr>\n",
       "      <th>date</th>\n",
       "      <td>1.000000</td>\n",
       "      <td>0.476021</td>\n",
       "    </tr>\n",
       "    <tr>\n",
       "      <th>steps</th>\n",
       "      <td>0.476021</td>\n",
       "      <td>1.000000</td>\n",
       "    </tr>\n",
       "  </tbody>\n",
       "</table>\n",
       "</div>"
      ],
      "text/plain": [
       "           date     steps\n",
       "date   1.000000  0.476021\n",
       "steps  0.476021  1.000000"
      ]
     },
     "execution_count": 19,
     "metadata": {},
     "output_type": "execute_result"
    }
   ],
   "source": [
    "import matplotlib.pyplot as plt\n",
    "\n",
    "plt.figure(figsize = (20,20))\n",
    "corr_matrix = df_steps.corr()\n",
    "\n",
    "plt.show()\n",
    "corr_matrix"
   ]
  },
  {
   "cell_type": "code",
   "execution_count": 21,
   "id": "7dfd7282-e21e-4834-8895-fedf7b190fde",
   "metadata": {},
   "outputs": [
    {
     "data": {
      "image/png": "[encoded data removed]",
      "text/plain": [
       "<Figure size 1000x400 with 1 Axes>"
      ]
     },
     "metadata": {},
     "output_type": "display_data"
    }
   ],
   "source": [
    "#Step 2.a : Basic EDA to see the data pre-processing\n",
    "\n",
    "import matplotlib.pyplot as plt\n",
    "\n",
    "plt.figure(figsize=(10, 4))\n",
    "plt.plot(df_steps['date'], df_steps['steps'], marker='o')\n",
    "plt.title(\"Daily Step Count\")\n",
    "plt.xlabel(\"Date\")\n",
    "plt.ylabel(\"Steps\")\n",
    "plt.grid(True)\n",
    "plt.show()\n"
   ]
  },
  {
   "cell_type": "code",
   "execution_count": 23,
   "id": "91d5bba2-1450-48d1-b835-3f91b948da5c",
   "metadata": {},
   "outputs": [
    {
     "name": "stdout",
     "output_type": "stream",
     "text": [
      "            steps\n",
      "date             \n",
      "2021-05-07    339\n",
      "2021-05-08   1138\n",
      "2021-05-09   1699\n",
      "2021-05-10   1080\n",
      "2021-05-11   1316\n"
     ]
    }
   ],
   "source": [
    "# Step 2.b Check for missing dates and fill\n",
    "\n",
    "df_steps['date'] = pd.to_datetime(df_steps['date'])\n",
    "df_steps = df_steps.set_index('date').sort_index()\n",
    "all_days = pd.date_range(df_steps.index.min(), df_steps.index.max())\n",
    "df_steps = df_steps.reindex(all_days, fill_value=0)\n",
    "df_steps.rename_axis('date', inplace=True)\n",
    "\n",
    "print(df_steps.head())\n"
   ]
  },
  {
   "cell_type": "code",
   "execution_count": 25,
   "id": "cdecef44-b441-48c7-be30-90eacb58074d",
   "metadata": {},
   "outputs": [
    {
     "data": {
      "text/plain": [
       "(1543, 1)"
      ]
     },
     "execution_count": 25,
     "metadata": {},
     "output_type": "execute_result"
    }
   ],
   "source": [
    "X =df_steps[['steps']]\n",
    "X.shape"
   ]
  },
  {
   "cell_type": "markdown",
   "id": "8d9207d3-aee0-494d-aaef-89b5e92f7612",
   "metadata": {},
   "source": [
    "#Testing : we will run nearest neighbours to see with Hopkins test if this is good for clustering"
   ]
  },
  {
   "cell_type": "code",
   "execution_count": 27,
   "id": "d9c56103-8106-4fa6-aeb9-c8dbfbca4c43",
   "metadata": {},
   "outputs": [
    {
     "data": {
      "text/plain": [
       "np.float64(0.9890796324209167)"
      ]
     },
     "execution_count": 27,
     "metadata": {},
     "output_type": "execute_result"
    }
   ],
   "source": [
    "from sklearn.neighbors import NearestNeighbors\n",
    "from random import sample\n",
    "from numpy.random import uniform\n",
    "import numpy as np\n",
    "from math import isnan\n",
    " \n",
    "def hopkins(X):\n",
    "    d = X.shape[1]\n",
    "    n = len(X) \n",
    "    m = int(0.1 * n)\n",
    "    nbrs = NearestNeighbors(n_neighbors=1).fit(X.values)\n",
    " \n",
    "    rand_X = sample(range(0, n, 1), m)\n",
    " \n",
    "    ujd = []\n",
    "    wjd = []\n",
    "    for j in range(0, m):\n",
    "        u_dist, _ = nbrs.kneighbors(uniform(np.amin(X,axis=0),np.amax(X,axis=0),d).reshape(1, -1), 2, return_distance=True)\n",
    "        ujd.append(u_dist[0][1])\n",
    "        w_dist, _ = nbrs.kneighbors(X.iloc[rand_X[j]].values.reshape(1, -1), 2, return_distance=True)\n",
    "        wjd.append(w_dist[0][1])\n",
    " \n",
    "    H = sum(ujd) / (sum(ujd) + sum(wjd))\n",
    "    if isnan(H):\n",
    "        print (ujd, wjd)\n",
    "        H = 0\n",
    " \n",
    "    return H\n",
    "\n",
    "hopkins(X)"
   ]
  },
  {
   "cell_type": "markdown",
   "id": "439fc4ab-7c29-48f6-8a15-8ebaf56532e2",
   "metadata": {},
   "source": [
    "The Hopkins score show that 0.98 is high meaning the data is clustered and using clustering is a good first step"
   ]
  },
  {
   "cell_type": "code",
   "execution_count": 33,
   "id": "18e71a2b-48a9-4f01-a620-37cb0ff07316",
   "metadata": {},
   "outputs": [
    {
     "data": {
      "text/html": [
       "<div>\n",
       "<style scoped>\n",
       "    .dataframe tbody tr th:only-of-type {\n",
       "        vertical-align: middle;\n",
       "    }\n",
       "\n",
       "    .dataframe tbody tr th {\n",
       "        vertical-align: top;\n",
       "    }\n",
       "\n",
       "    .dataframe thead th {\n",
       "        text-align: right;\n",
       "    }\n",
       "</style>\n",
       "<table border=\"1\" class=\"dataframe\">\n",
       "  <thead>\n",
       "    <tr style=\"text-align: right;\">\n",
       "      <th></th>\n",
       "      <th>steps</th>\n",
       "    </tr>\n",
       "  </thead>\n",
       "  <tbody>\n",
       "    <tr>\n",
       "      <th>0</th>\n",
       "      <td>-0.810182</td>\n",
       "    </tr>\n",
       "    <tr>\n",
       "      <th>1</th>\n",
       "      <td>-0.654327</td>\n",
       "    </tr>\n",
       "    <tr>\n",
       "      <th>2</th>\n",
       "      <td>-0.544898</td>\n",
       "    </tr>\n",
       "    <tr>\n",
       "      <th>3</th>\n",
       "      <td>-0.665641</td>\n",
       "    </tr>\n",
       "    <tr>\n",
       "      <th>4</th>\n",
       "      <td>-0.619606</td>\n",
       "    </tr>\n",
       "    <tr>\n",
       "      <th>...</th>\n",
       "      <td>...</td>\n",
       "    </tr>\n",
       "    <tr>\n",
       "      <th>1538</th>\n",
       "      <td>1.565089</td>\n",
       "    </tr>\n",
       "    <tr>\n",
       "      <th>1539</th>\n",
       "      <td>1.463657</td>\n",
       "    </tr>\n",
       "    <tr>\n",
       "      <th>1540</th>\n",
       "      <td>0.578075</td>\n",
       "    </tr>\n",
       "    <tr>\n",
       "      <th>1541</th>\n",
       "      <td>3.294120</td>\n",
       "    </tr>\n",
       "    <tr>\n",
       "      <th>1542</th>\n",
       "      <td>-0.802184</td>\n",
       "    </tr>\n",
       "  </tbody>\n",
       "</table>\n",
       "<p>1543 rows × 1 columns</p>\n",
       "</div>"
      ],
      "text/plain": [
       "         steps\n",
       "0    -0.810182\n",
       "1    -0.654327\n",
       "2    -0.544898\n",
       "3    -0.665641\n",
       "4    -0.619606\n",
       "...        ...\n",
       "1538  1.565089\n",
       "1539  1.463657\n",
       "1540  0.578075\n",
       "1541  3.294120\n",
       "1542 -0.802184\n",
       "\n",
       "[1543 rows x 1 columns]"
      ]
     },
     "execution_count": 33,
     "metadata": {},
     "output_type": "execute_result"
    }
   ],
   "source": [
    "#Step 3.a Model evaluation : we will use kmeans model at first to see if it can best fit the data\n",
    "\n",
    "scaler = StandardScaler()\n",
    "X_scaled =  scaler.fit_transform(X)\n",
    "X_scaled\n",
    "X_scaled_df = pd.DataFrame(X_scaled)\n",
    "X_scaled_df.columns = ['steps']\n",
    "X_scaled_df"
   ]
  },
  {
   "cell_type": "markdown",
   "id": "6ade6e16-15fd-4277-98e5-2a49ebc36325",
   "metadata": {},
   "source": [
    "#The number of clusters best suited for this model can not eb arbitrary which is why we will use the elbow curve to identify how many clusters best fit the model"
   ]
  },
  {
   "cell_type": "code",
   "execution_count": 37,
   "id": "2ef1deab-d958-4d26-9ad3-3423d8659145",
   "metadata": {},
   "outputs": [
    {
     "data": {
      "image/png": "[encoded data removed]",
      "text/plain": [
       "<Figure size 640x480 with 2 Axes>"
      ]
     },
     "metadata": {},
     "output_type": "display_data"
    }
   ],
   "source": [
    "from sklearn.metrics import silhouette_score\n",
    "\n",
    "ssd = []\n",
    "sil_scores = []\n",
    "range_n_clusters = [1, 2, 3, 4, 5, 6, 7, 8, 9]\n",
    "\n",
    "for num_clusters in range_n_clusters:\n",
    "    kmeans = KMeans(n_clusters=num_clusters, max_iter=50)\n",
    "    kmeans.fit(X_scaled_df)\n",
    "    \n",
    "    # Inertia (SSD)\n",
    "    ssd.append(kmeans.inertia_)\n",
    "    \n",
    "    # Silhouette Score (excluding 1 cluster because silhouette score is not defined for 1 cluster)\n",
    "    if num_clusters > 1:\n",
    "        sil_score = silhouette_score(X_scaled_df, kmeans.labels_)\n",
    "        sil_scores.append(sil_score)\n",
    "    else:\n",
    "        sil_scores.append(None)\n",
    "\n",
    "# Plotting both Inertia and Silhouette Score\n",
    "fig, ax1 = plt.subplots()\n",
    "\n",
    "ax1.set_xlabel('Number of Clusters')\n",
    "ax1.set_ylabel('Inertia (SSD)', color='tab:blue')\n",
    "ax1.plot(range_n_clusters, ssd, color='tab:blue', label='Inertia (SSD)')\n",
    "ax1.tick_params(axis='y', labelcolor='tab:blue')\n",
    "\n",
    "ax2 = ax1.twinx()  # instantiate a second axes that shares the same x-axis\n",
    "ax2.set_ylabel('Silhouette Score', color='tab:green')  # we already handled x-label with ax1\n",
    "ax2.plot(range_n_clusters[1:], sil_scores[1:], color='tab:green', label='Silhouette Score')\n",
    "ax2.tick_params(axis='y', labelcolor='tab:green')\n",
    "\n",
    "fig.tight_layout()  # to ensure everything fits without overlap\n",
    "plt.show()\n"
   ]
  },
  {
   "cell_type": "code",
   "execution_count": 39,
   "id": "14f63ba5-5e51-455d-b402-1c7a93e17006",
   "metadata": {},
   "outputs": [
    {
     "name": "stdout",
     "output_type": "stream",
     "text": [
      "For n_clusters=2, the silhouette score is 0.7161633805973393\n",
      "For n_clusters=3, the silhouette score is 0.6266233221556231\n",
      "For n_clusters=4, the silhouette score is 0.6002685116073525\n",
      "For n_clusters=5, the silhouette score is 0.5652583747389283\n",
      "For n_clusters=6, the silhouette score is 0.5672578491341691\n",
      "For n_clusters=7, the silhouette score is 0.5626329604790806\n",
      "For n_clusters=8, the silhouette score is 0.5639496071279495\n",
      "For n_clusters=9, the silhouette score is 0.5482478680389069\n"
     ]
    }
   ],
   "source": [
    "range_n_clusters = [ 2, 3, 4, 5, 6, 7, 8, 9]\n",
    "\n",
    "for num_clusters in range_n_clusters:\n",
    "    \n",
    "    # intialise kmeans\n",
    "    kmeans = KMeans(n_clusters=num_clusters, max_iter=50)\n",
    "    kmeans.fit(X_scaled_df)\n",
    "    \n",
    "    cluster_labels = kmeans.labels_\n",
    "    \n",
    "    # silhouette score\n",
    "    silhouette_avg = silhouette_score(X_scaled_df, cluster_labels)\n",
    "    print(\"For n_clusters={0}, the silhouette score is {1}\".format(num_clusters, silhouette_avg))"
   ]
  },
  {
   "cell_type": "markdown",
   "id": "12c32e5b-157f-4cfb-b4c7-42e9e3a685c7",
   "metadata": {},
   "source": [
    "The silhouette score ranges from -1 to +1.\n",
    "\n",
    "A score close to +1 indicates that the data points are well clustered, meaning each point is close to the center of its assigned cluster and far from other clusters.\n",
    "A score close to 0 suggests that the data points are on or near the decision boundary between clusters, making it harder to clearly distinguish the clusters.\n",
    "A score close to -1 indicates that the data points might be wrongly clustered, as they are closer to a neighboring cluster than to their own."
   ]
  },
  {
   "cell_type": "markdown",
   "id": "91943c8a-b403-4804-be89-7718d767f94f",
   "metadata": {},
   "source": [
    "We will choose 4 clusters as that is where the elbow starts to curve and the sillehoute score is good at 3."
   ]
  },
  {
   "cell_type": "code",
   "execution_count": 45,
   "id": "ae8a73fe-fcbe-411a-abfe-e1a65aa066eb",
   "metadata": {},
   "outputs": [
    {
     "data": {
      "text/html": [
       "<div>\n",
       "<style scoped>\n",
       "    .dataframe tbody tr th:only-of-type {\n",
       "        vertical-align: middle;\n",
       "    }\n",
       "\n",
       "    .dataframe tbody tr th {\n",
       "        vertical-align: top;\n",
       "    }\n",
       "\n",
       "    .dataframe thead th {\n",
       "        text-align: right;\n",
       "    }\n",
       "</style>\n",
       "<table border=\"1\" class=\"dataframe\">\n",
       "  <thead>\n",
       "    <tr style=\"text-align: right;\">\n",
       "      <th></th>\n",
       "      <th>steps</th>\n",
       "      <th>cluster_id</th>\n",
       "    </tr>\n",
       "    <tr>\n",
       "      <th>date</th>\n",
       "      <th></th>\n",
       "      <th></th>\n",
       "    </tr>\n",
       "  </thead>\n",
       "  <tbody>\n",
       "    <tr>\n",
       "      <th>2021-05-07</th>\n",
       "      <td>339</td>\n",
       "      <td>3</td>\n",
       "    </tr>\n",
       "    <tr>\n",
       "      <th>2021-05-08</th>\n",
       "      <td>1138</td>\n",
       "      <td>3</td>\n",
       "    </tr>\n",
       "    <tr>\n",
       "      <th>2021-05-09</th>\n",
       "      <td>1699</td>\n",
       "      <td>3</td>\n",
       "    </tr>\n",
       "    <tr>\n",
       "      <th>2021-05-10</th>\n",
       "      <td>1080</td>\n",
       "      <td>3</td>\n",
       "    </tr>\n",
       "    <tr>\n",
       "      <th>2021-05-11</th>\n",
       "      <td>1316</td>\n",
       "      <td>3</td>\n",
       "    </tr>\n",
       "  </tbody>\n",
       "</table>\n",
       "</div>"
      ],
      "text/plain": [
       "            steps  cluster_id\n",
       "date                         \n",
       "2021-05-07    339           3\n",
       "2021-05-08   1138           3\n",
       "2021-05-09   1699           3\n",
       "2021-05-10   1080           3\n",
       "2021-05-11   1316           3"
      ]
     },
     "execution_count": 45,
     "metadata": {},
     "output_type": "execute_result"
    }
   ],
   "source": [
    "#Fit clustering models \n",
    "\n",
    "kmeans = KMeans(n_clusters=4, max_iter=100)\n",
    "kmeans.fit(X_scaled_df)\n",
    "\n",
    "df_steps['cluster_id'] = kmeans.labels_\n",
    "df_steps.head()\n",
    "\n"
   ]
  },
  {
   "cell_type": "code",
   "execution_count": 47,
   "id": "56253b65-20f5-4000-b8a3-0c8fb5b090d9",
   "metadata": {},
   "outputs": [
    {
     "data": {
      "text/plain": [
       "cluster_id\n",
       "3    0.556708\n",
       "1    0.316267\n",
       "0    0.101750\n",
       "2    0.025275\n",
       "Name: proportion, dtype: float64"
      ]
     },
     "execution_count": 47,
     "metadata": {},
     "output_type": "execute_result"
    }
   ],
   "source": [
    "df_steps['cluster_id'].value_counts(normalize =True)"
   ]
  },
  {
   "cell_type": "code",
   "execution_count": 49,
   "id": "6785aa37-cc9a-453c-86b5-149d7c6116fe",
   "metadata": {},
   "outputs": [
    {
     "name": "stdout",
     "output_type": "stream",
     "text": [
      "cluster_id\n",
      "0    12524.751592\n",
      "1     5627.217213\n",
      "2    25480.974359\n",
      "3     1426.816065\n",
      "Name: steps, dtype: float64\n"
     ]
    }
   ],
   "source": [
    "avg_steps_per_cluster = df_steps.groupby('cluster_id')['steps'].mean()\n",
    "\n",
    "print(avg_steps_per_cluster)"
   ]
  },
  {
   "cell_type": "code",
   "execution_count": 51,
   "id": "f9db542b-6e44-42bf-ae7c-d06c074eaceb",
   "metadata": {},
   "outputs": [
    {
     "name": "stdout",
     "output_type": "stream",
     "text": [
      "            cluster_id cluster_name  steps\n",
      "date                                      \n",
      "2021-05-07           3    Sedentary    339\n",
      "2021-05-08           3    Sedentary   1138\n",
      "2021-05-09           3    Sedentary   1699\n",
      "2021-05-10           3    Sedentary   1080\n",
      "2021-05-11           3    Sedentary   1316\n"
     ]
    }
   ],
   "source": [
    "cluster_names = {\n",
    "    0: \"Highly Active\",  # For the cluster with 12524.75 average steps\n",
    "    1: \"Moderately Active\",  # For the cluster with 5627.22 average steps\n",
    "    2: \"Super Active\",  # For the cluster with 25480.97 average steps\n",
    "    3: \"Sedentary\"  # For the cluster with 1426.82 average steps\n",
    "}\n",
    "\n",
    "# Map cluster names to each row in the dataframe based on the cluster_id\n",
    "df_steps['cluster_name'] = df_steps['cluster_id'].map(cluster_names)\n",
    "\n",
    "# Now you have a new column 'cluster_name' in your dataframe\n",
    "print(df_steps[['cluster_id', 'cluster_name', 'steps']].head())"
   ]
  },
  {
   "cell_type": "markdown",
   "id": "e7126892-640e-4d96-99fe-e7f4149591ed",
   "metadata": {},
   "source": [
    "#Results: We created 4 clusters to cluster my walking behaviour"
   ]
  }
 ],
 "metadata": {
  "kernelspec": {
   "display_name": "Python [conda env:walkwise]",
   "language": "python",
   "name": "conda-env-walkwise-py"
  },
  "language_info": {
   "codemirror_mode": {
    "name": "ipython",
    "version": 3
   },
   "file_extension": ".py",
   "mimetype": "text/x-python",
   "name": "python",
   "nbconvert_exporter": "python",
   "pygments_lexer": "ipython3",
   "version": "3.10.18"
  }
 },
 "nbformat": 4,
 "nbformat_minor": 5
}
